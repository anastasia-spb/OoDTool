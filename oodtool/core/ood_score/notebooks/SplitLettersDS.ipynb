{
 "cells": [
  {
   "cell_type": "code",
   "execution_count": 39,
   "id": "65659e83",
   "metadata": {},
   "outputs": [],
   "source": [
    "db_path = '/home/vlasova/datasets/ood_datasets/Letters/Letters_v20/dataset'"
   ]
  },
  {
   "cell_type": "code",
   "execution_count": 38,
   "id": "c0a96f5d",
   "metadata": {},
   "outputs": [],
   "source": [
    "import pandas as pd\n",
    "import numpy as np\n",
    "import os\n",
    "import shutil"
   ]
  },
  {
   "cell_type": "code",
   "execution_count": 29,
   "id": "4164c58a",
   "metadata": {},
   "outputs": [],
   "source": [
    "df = pd.read_csv(os.path.join(db_path, 'letters2.csv'))"
   ]
  },
  {
   "cell_type": "code",
   "execution_count": 30,
   "id": "6ebdb1d1",
   "metadata": {},
   "outputs": [
    {
     "data": {
      "text/html": [
       "<div>\n",
       "<style scoped>\n",
       "    .dataframe tbody tr th:only-of-type {\n",
       "        vertical-align: middle;\n",
       "    }\n",
       "\n",
       "    .dataframe tbody tr th {\n",
       "        vertical-align: top;\n",
       "    }\n",
       "\n",
       "    .dataframe thead th {\n",
       "        text-align: right;\n",
       "    }\n",
       "</style>\n",
       "<table border=\"1\" class=\"dataframe\">\n",
       "  <thead>\n",
       "    <tr style=\"text-align: right;\">\n",
       "      <th></th>\n",
       "      <th>letter</th>\n",
       "      <th>label</th>\n",
       "      <th>file</th>\n",
       "      <th>background</th>\n",
       "    </tr>\n",
       "  </thead>\n",
       "  <tbody>\n",
       "    <tr>\n",
       "      <th>0</th>\n",
       "      <td>а</td>\n",
       "      <td>1</td>\n",
       "      <td>01_51.png</td>\n",
       "      <td>2</td>\n",
       "    </tr>\n",
       "    <tr>\n",
       "      <th>1</th>\n",
       "      <td>а</td>\n",
       "      <td>1</td>\n",
       "      <td>01_52.png</td>\n",
       "      <td>2</td>\n",
       "    </tr>\n",
       "    <tr>\n",
       "      <th>2</th>\n",
       "      <td>а</td>\n",
       "      <td>1</td>\n",
       "      <td>01_53.png</td>\n",
       "      <td>2</td>\n",
       "    </tr>\n",
       "  </tbody>\n",
       "</table>\n",
       "</div>"
      ],
      "text/plain": [
       "  letter  label       file  background\n",
       "0      а      1  01_51.png           2\n",
       "1      а      1  01_52.png           2\n",
       "2      а      1  01_53.png           2"
      ]
     },
     "execution_count": 30,
     "metadata": {},
     "output_type": "execute_result"
    }
   ],
   "source": [
    "df.head(3)"
   ]
  },
  {
   "cell_type": "code",
   "execution_count": 31,
   "id": "4dce9cc1",
   "metadata": {},
   "outputs": [],
   "source": [
    "output_folder = os.path.join(db_path, 'dataset')"
   ]
  },
  {
   "cell_type": "code",
   "execution_count": 32,
   "id": "cbe2fc81",
   "metadata": {},
   "outputs": [],
   "source": [
    "labels = df.label.unique()"
   ]
  },
  {
   "cell_type": "code",
   "execution_count": 33,
   "id": "c3269ff9",
   "metadata": {},
   "outputs": [],
   "source": [
    "back_types = df.background.unique()"
   ]
  },
  {
   "cell_type": "code",
   "execution_count": 34,
   "id": "16d51508",
   "metadata": {},
   "outputs": [],
   "source": [
    "for back in back_types:\n",
    "    for l in labels:\n",
    "        d = os.path.join(output_folder, str(back), str(l))\n",
    "        os.makedirs(d)"
   ]
  },
  {
   "cell_type": "code",
   "execution_count": 36,
   "id": "2a6e9d77",
   "metadata": {},
   "outputs": [],
   "source": [
    "old_root_dir = '/home/vlasova/datasets/ood_datasets/Letters/Letters_v20/kaggle_source/letters2'\n",
    "\n",
    "def copy(dir_name: str, files: list):\n",
    "    for f in files:\n",
    "        # full_path = os.path.join(dir_name, f)\n",
    "        old_path = os.path.join(old_root_dir, f)\n",
    "        shutil.copy(old_path, dir_name)\n",
    "    \n",
    "\n",
    "for back in back_types:\n",
    "    for l in labels:\n",
    "        d = os.path.join(output_folder, str(back), str(l))\n",
    "        indices = df.loc[df.label == l].loc[df.background == back].index.values\n",
    "        copy(d, df.iloc[indices][\"file\"].to_list())\n",
    "        "
   ]
  },
  {
   "cell_type": "code",
   "execution_count": null,
   "id": "9a1f01da",
   "metadata": {},
   "outputs": [],
   "source": []
  },
  {
   "cell_type": "code",
   "execution_count": null,
   "id": "f3b27e73",
   "metadata": {},
   "outputs": [],
   "source": []
  },
  {
   "cell_type": "code",
   "execution_count": 40,
   "id": "1b4b5c1e",
   "metadata": {},
   "outputs": [],
   "source": [
    "for back in [0, 1, 2, 3]:\n",
    "    for l in labels:\n",
    "        d = os.path.join(db_path, str(back), \"test\", str(l))\n",
    "        os.makedirs(d)\n",
    "        d = os.path.join(db_path, str(back), \"train\", str(l))\n",
    "        os.makedirs(d)"
   ]
  },
  {
   "cell_type": "code",
   "execution_count": 46,
   "id": "06499842",
   "metadata": {},
   "outputs": [],
   "source": [
    "from sklearn.model_selection import train_test_split\n",
    "\n",
    "for back in [0, 1, 2, 3]:\n",
    "    for l in labels:\n",
    "        source_dir = os.path.join(db_path, str(back), str(l))\n",
    "        all_files = [f for f in os.listdir(source_dir)]\n",
    "        train_images, test_images = train_test_split(all_files, test_size=0.3, random_state=42)\n",
    "        for i in train_images:\n",
    "            target_dir = os.path.join(db_path, str(back), \"train\", str(l))\n",
    "            shutil.move(os.path.join(source_dir, i), target_dir)\n",
    "        for i in test_images:\n",
    "            target_dir = os.path.join(db_path, str(back), \"test\", str(l))\n",
    "            shutil.move(os.path.join(source_dir, i), target_dir)"
   ]
  },
  {
   "cell_type": "code",
   "execution_count": null,
   "id": "71af7a67",
   "metadata": {},
   "outputs": [],
   "source": []
  },
  {
   "cell_type": "code",
   "execution_count": null,
   "id": "3b5c546d",
   "metadata": {},
   "outputs": [],
   "source": []
  },
  {
   "cell_type": "code",
   "execution_count": 47,
   "id": "480c95f4",
   "metadata": {},
   "outputs": [],
   "source": [
    "db_path = '/home/vlasova/datasets/ood_datasets/Letters_v20/dataset/EMNIST/EMNIST'"
   ]
  },
  {
   "cell_type": "code",
   "execution_count": 54,
   "id": "533c87ac",
   "metadata": {},
   "outputs": [],
   "source": [
    "for l in range(0, 47):\n",
    "        source_dir = os.path.join(db_path, str(l))\n",
    "        all_files = [f for f in os.listdir(source_dir)]\n",
    "        train_images, test_images = train_test_split(all_files, test_size=0.2, random_state=42)\n",
    "        for i in train_images:\n",
    "            image_to_remove = os.path.join(source_dir, i)\n",
    "            os.remove(image_to_remove)"
   ]
  },
  {
   "cell_type": "code",
   "execution_count": 55,
   "id": "3dcc7c4e",
   "metadata": {},
   "outputs": [
    {
     "data": {
      "text/plain": [
       "506"
      ]
     },
     "execution_count": 55,
     "metadata": {},
     "output_type": "execute_result"
    }
   ],
   "source": [
    "11*46"
   ]
  },
  {
   "cell_type": "code",
   "execution_count": null,
   "id": "37607b8f",
   "metadata": {},
   "outputs": [],
   "source": []
  },
  {
   "cell_type": "code",
   "execution_count": null,
   "id": "94277373",
   "metadata": {},
   "outputs": [],
   "source": []
  },
  {
   "cell_type": "code",
   "execution_count": null,
   "id": "54718022",
   "metadata": {},
   "outputs": [],
   "source": []
  },
  {
   "cell_type": "code",
   "execution_count": 64,
   "id": "a0e0ab14",
   "metadata": {},
   "outputs": [],
   "source": [
    "db_path = '/home/vlasova/datasets/ood_datasets/Office-31/Office_31/webcam'\n",
    "\n",
    "folders = ['back_pack', 'bike', 'bike_helmet', 'bookcase',\n",
    "           'bottle', 'calculator', 'desk_chair', 'desk_lamp', \n",
    "           'desktop_computer', 'file_cabinet', 'headphones', 'keyboard',\n",
    "           'laptop_computer', 'letter_tray', 'mobile_phone', 'monitor',\n",
    "           'mouse', 'mug', 'paper_notebook', 'pen', 'phone', 'printer',\n",
    "           'projector', 'punchers', 'ring_binder', 'ruler', 'scissors',\n",
    "           'speaker', 'stapler', 'tape_dispenser', 'trash_can']"
   ]
  },
  {
   "cell_type": "code",
   "execution_count": 65,
   "id": "f89ae78b",
   "metadata": {},
   "outputs": [
    {
     "name": "stdout",
     "output_type": "stream",
     "text": [
      "/home/vlasova/datasets/ood_datasets/Office-31/Office_31/webcam/test/back_pack\n",
      "/home/vlasova/datasets/ood_datasets/Office-31/Office_31/webcam/test/bike\n",
      "/home/vlasova/datasets/ood_datasets/Office-31/Office_31/webcam/test/bike_helmet\n",
      "/home/vlasova/datasets/ood_datasets/Office-31/Office_31/webcam/test/bookcase\n",
      "/home/vlasova/datasets/ood_datasets/Office-31/Office_31/webcam/test/bottle\n",
      "/home/vlasova/datasets/ood_datasets/Office-31/Office_31/webcam/test/calculator\n",
      "/home/vlasova/datasets/ood_datasets/Office-31/Office_31/webcam/test/desk_chair\n",
      "/home/vlasova/datasets/ood_datasets/Office-31/Office_31/webcam/test/desk_lamp\n",
      "/home/vlasova/datasets/ood_datasets/Office-31/Office_31/webcam/test/desktop_computer\n",
      "/home/vlasova/datasets/ood_datasets/Office-31/Office_31/webcam/test/file_cabinet\n",
      "/home/vlasova/datasets/ood_datasets/Office-31/Office_31/webcam/test/headphones\n",
      "/home/vlasova/datasets/ood_datasets/Office-31/Office_31/webcam/test/keyboard\n",
      "/home/vlasova/datasets/ood_datasets/Office-31/Office_31/webcam/test/laptop_computer\n",
      "/home/vlasova/datasets/ood_datasets/Office-31/Office_31/webcam/test/letter_tray\n",
      "/home/vlasova/datasets/ood_datasets/Office-31/Office_31/webcam/test/mobile_phone\n",
      "/home/vlasova/datasets/ood_datasets/Office-31/Office_31/webcam/test/monitor\n",
      "/home/vlasova/datasets/ood_datasets/Office-31/Office_31/webcam/test/mouse\n",
      "/home/vlasova/datasets/ood_datasets/Office-31/Office_31/webcam/test/mug\n",
      "/home/vlasova/datasets/ood_datasets/Office-31/Office_31/webcam/test/paper_notebook\n",
      "/home/vlasova/datasets/ood_datasets/Office-31/Office_31/webcam/test/pen\n",
      "/home/vlasova/datasets/ood_datasets/Office-31/Office_31/webcam/test/phone\n",
      "/home/vlasova/datasets/ood_datasets/Office-31/Office_31/webcam/test/printer\n",
      "/home/vlasova/datasets/ood_datasets/Office-31/Office_31/webcam/test/projector\n",
      "/home/vlasova/datasets/ood_datasets/Office-31/Office_31/webcam/test/punchers\n",
      "/home/vlasova/datasets/ood_datasets/Office-31/Office_31/webcam/test/ring_binder\n",
      "/home/vlasova/datasets/ood_datasets/Office-31/Office_31/webcam/test/ruler\n",
      "/home/vlasova/datasets/ood_datasets/Office-31/Office_31/webcam/test/scissors\n",
      "/home/vlasova/datasets/ood_datasets/Office-31/Office_31/webcam/test/speaker\n",
      "/home/vlasova/datasets/ood_datasets/Office-31/Office_31/webcam/test/stapler\n",
      "/home/vlasova/datasets/ood_datasets/Office-31/Office_31/webcam/test/tape_dispenser\n",
      "/home/vlasova/datasets/ood_datasets/Office-31/Office_31/webcam/test/trash_can\n"
     ]
    }
   ],
   "source": [
    "for l in folders:\n",
    "    d = os.path.join(db_path, \"test\", l)\n",
    "    print(d)\n",
    "    os.makedirs(d)"
   ]
  },
  {
   "cell_type": "code",
   "execution_count": 66,
   "id": "65d81a49",
   "metadata": {},
   "outputs": [],
   "source": [
    "for l in folders:\n",
    "    source_dir = os.path.join(db_path, \"train\", l)\n",
    "    all_files = [f for f in os.listdir(source_dir)]\n",
    "    train_images, test_images = train_test_split(all_files, test_size=0.3, random_state=42)\n",
    "    for i in test_images:\n",
    "        image_move = os.path.join(source_dir, i)\n",
    "        target_dir = os.path.join(db_path, \"test\", l)\n",
    "        shutil.move(image_move, target_dir)"
   ]
  },
  {
   "cell_type": "code",
   "execution_count": null,
   "id": "2f11a078",
   "metadata": {},
   "outputs": [],
   "source": []
  }
 ],
 "metadata": {
  "kernelspec": {
   "display_name": "Python 3 (ipykernel)",
   "language": "python",
   "name": "python3"
  },
  "language_info": {
   "codemirror_mode": {
    "name": "ipython",
    "version": 3
   },
   "file_extension": ".py",
   "mimetype": "text/x-python",
   "name": "python",
   "nbconvert_exporter": "python",
   "pygments_lexer": "ipython3",
   "version": "3.8.10"
  }
 },
 "nbformat": 4,
 "nbformat_minor": 5
}
