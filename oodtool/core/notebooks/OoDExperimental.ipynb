{
 "cells": [
  {
   "cell_type": "markdown",
   "id": "1e804192",
   "metadata": {},
   "source": [
    "# Setup OoD pipeline\n",
    "\n",
    "---\n",
    "\n",
    "In this notebook user can setup parameters for OoD methods based on embeddings:\n",
    "* OoD Entropy method (https://arxiv.org/abs/2002.03103)\n",
    "* KNN Dist (https://arxiv.org/pdf/2207.03061.pdf)\n",
    "* RMD (https://arxiv.org/abs/2106.09022)\n",
    "\n",
    "Confident Learning methods depends only on classifications, accepts any file with extension `.clf.pkl`.\n"
   ]
  },
  {
   "cell_type": "markdown",
   "id": "312fa29b",
   "metadata": {},
   "source": [
    "## Generate embeddings files\n",
    "\n",
    "---\n"
   ]
  },
  {
   "cell_type": "code",
   "execution_count": null,
   "id": "142347c7",
   "metadata": {},
   "outputs": [],
   "source": [
    "import os\n",
    "import numpy as np\n",
    "import pandas as pd\n",
    "import timm\n",
    "\n",
    "from tool.core.data_types import types\n",
    "import czebra as cz\n",
    "from tool.core.czebra_adapter import CZebraAdapter"
   ]
  },
  {
   "cell_type": "code",
   "execution_count": null,
   "id": "6217f281",
   "metadata": {},
   "outputs": [],
   "source": [
    "# Setup data\n",
    "\n",
    "ood_session_dir = '/home/vlasova/datasets/ood_datasets/MNIST_FashionMNIST/oodsession_0'\n",
    "metadata_file_path = os.path.join(ood_session_dir, 'DatasetDescription.meta.pkl')\n",
    "metadata_df = pd.read_pickle(metadata_file_path)\n",
    "data_dir = '/home/vlasova/datasets/ood_datasets/MNIST_FashionMNIST'\n",
    "output_dir = ood_session_dir"
   ]
  },
  {
   "cell_type": "markdown",
   "id": "be81943c",
   "metadata": {},
   "source": [
    "### Supported models\n",
    "\n",
    "---\n",
    "#### Pretrained on ImageNet\n",
    "\n",
    "##### Swin Based"
   ]
  },
  {
   "cell_type": "code",
   "execution_count": null,
   "id": "a9c81e43",
   "metadata": {},
   "outputs": [],
   "source": [
    "timm_swin_model_ids = ['swin_base_patch4_window7_224', 'swin_base_patch4_window7_224_in22k', 'swin_base_patch4_window12_384', 'swin_base_patch4_window12_384_in22k', 'swin_large_patch4_window7_224', 'swin_large_patch4_window7_224_in22k', 'swin_large_patch4_window12_384', 'swin_large_patch4_window12_384_in22k', 'swin_s3_base_224', 'swin_s3_small_224', 'swin_s3_tiny_224', 'swin_small_patch4_window7_224', 'swin_tiny_patch4_window7_224', 'swinv2_base_window8_256', 'swinv2_base_window12_192_22k', 'swinv2_base_window12to16_192to256_22kft1k', 'swinv2_base_window12to24_192to384_22kft1k', 'swinv2_base_window16_256', 'swinv2_cr_small_224', 'swinv2_cr_small_ns_224', 'swinv2_cr_tiny_ns_224', 'swinv2_large_window12_192_22k', 'swinv2_large_window12to16_192to256_22kft1k', 'swinv2_large_window12to24_192to384_22kft1k', 'swinv2_small_window8_256', 'swinv2_small_window16_256', 'swinv2_tiny_window8_256', 'swinv2_tiny_window16_256']\n",
    "['_'.join(('timm', resnet_id)) for resnet_id in timm_swin_model_ids]"
   ]
  },
  {
   "cell_type": "markdown",
   "id": "9a68a3fc",
   "metadata": {},
   "source": [
    "##### ResNet Based"
   ]
  },
  {
   "cell_type": "code",
   "execution_count": null,
   "id": "acc4b7a3",
   "metadata": {},
   "outputs": [],
   "source": [
    "['_'.join(('timm', resnet_id)) for resnet_id in ['resnet50']]"
   ]
  },
  {
   "cell_type": "markdown",
   "id": "cfa4d8b1",
   "metadata": {},
   "source": [
    "#### Pretrained on TrafficLights Dataset"
   ]
  },
  {
   "cell_type": "code",
   "execution_count": null,
   "id": "a98f15c4",
   "metadata": {},
   "outputs": [],
   "source": [
    "shared_regnet_tl_embedders_id = cz.search_model(framework=\"torch\", arch=\"shared-regnet\", usecase=\"trafficlights\")\n",
    "[model_info.model_id for model_info in shared_regnet_tl_embedders_id]"
   ]
  },
  {
   "cell_type": "code",
   "execution_count": null,
   "id": "25e70bad",
   "metadata": {},
   "outputs": [],
   "source": [
    "# Select embedder id\n",
    "emb_id = 'timm_swin_small_patch4_window7_224' \n",
    "embedder_wrapper = CZebraAdapter(metadata_df, data_dir, output_dir=output_dir)\n",
    "output_file, _ = embedder_wrapper.predict(model_id=emb_id)\n",
    "print(output_file)"
   ]
  },
  {
   "cell_type": "code",
   "execution_count": null,
   "id": "68bca534",
   "metadata": {},
   "outputs": [],
   "source": [
    "## List of emb files in ood_session_dir\n",
    "\n",
    "embeddings_files = []\n",
    "\n",
    "for file in os.listdir(ood_session_dir):\n",
    "    if file.endswith(\".emb.pkl\"):\n",
    "        print(file)\n",
    "        embeddings_files.append(file)"
   ]
  },
  {
   "cell_type": "markdown",
   "id": "0a98516a",
   "metadata": {},
   "source": [
    "## OoD KNN Dist \n",
    "\n",
    "---"
   ]
  },
  {
   "cell_type": "code",
   "execution_count": null,
   "id": "9a35f3ee",
   "metadata": {},
   "outputs": [],
   "source": [
    "from tool.core.ood_score import ood_confident_learning"
   ]
  },
  {
   "cell_type": "code",
   "execution_count": null,
   "id": "90753e1d",
   "metadata": {},
   "outputs": [],
   "source": [
    "# embeddings_file = 'timm_swin_small_patch4_window7_224.emb.pkl'\n",
    "for embeddings_file in embeddings_files:\n",
    "    ood_score = ood_confident_learning.score_embeddings(embedding_file=os.path.join(ood_session_dir, embeddings_file),\n",
    "                                                        metadata_df=metadata_df)\n",
    "\n",
    "    ood_knn_dist_df = pd.DataFrame()\n",
    "    ood_knn_dist_df[types.RelativePathType.name()] = metadata_df[types.RelativePathType.name()]\n",
    "    ood_knn_dist_df[types.OoDScoreType.name()] = ood_score\n",
    "\n",
    "    ood_file_name = ''.join((embeddings_file, '_knn_dist', '.ood.pkl'))\n",
    "    ood_knn_dist_df.to_pickle(os.path.join(ood_session_dir, ood_file_name))"
   ]
  },
  {
   "cell_type": "markdown",
   "id": "f49592b4",
   "metadata": {},
   "source": [
    "## OoD Entropy\n",
    "\n",
    "---"
   ]
  },
  {
   "cell_type": "code",
   "execution_count": null,
   "id": "989162d3",
   "metadata": {},
   "outputs": [],
   "source": [
    "from tool.core.ood_score import ood_entropy"
   ]
  },
  {
   "cell_type": "code",
   "execution_count": null,
   "id": "fefbb810",
   "metadata": {},
   "outputs": [],
   "source": [
    "regularization_coefficients = {1e-5, 1.0, 1e5}\n",
    "classifier_type = 'saga'\n",
    "reduce_dim = False\n",
    "# Required only if reduce_dim set to True\n",
    "n_components = [768, 612]\n",
    "embeddings_files = ['torch_shared-regnet_trafficlights_v12.emb.pkl',  'timm_resnet50.emb.pkl']\n",
    "embeddings_files = [os.path.join(ood_session_dir, emb_file) for emb_file in embeddings_files]\n",
    "\n",
    "ood_score = ood_entropy.score_embeddings(\n",
    "    embeddings_files=embeddings_files,\n",
    "    metadata_df=metadata_df,\n",
    "    regularization_coefficients = regularization_coefficients,\n",
    "    classifier_type = classifier_type, logs_callback=print, reduce_dim=reduce_dim, n_components=n_components)\n",
    "\n",
    "ood_entropy_df = pd.DataFrame()\n",
    "ood_entropy_df[types.RelativePathType.name()] = metadata_df[types.RelativePathType.name()]\n",
    "ood_entropy_df[types.OoDScoreType.name()] = ood_score\n",
    "\n",
    "ood_file_name = ''.join(('ood_entropy_score', '.ood.pkl'))\n",
    "print(ood_file_name)\n",
    "ood_entropy_df.to_pickle(os.path.join(ood_session_dir, ood_file_name))"
   ]
  },
  {
   "cell_type": "markdown",
   "id": "567b87a9",
   "metadata": {},
   "source": [
    "## OoD RMD\n",
    "\n",
    "---"
   ]
  },
  {
   "cell_type": "code",
   "execution_count": null,
   "id": "2bcb02a0",
   "metadata": {},
   "outputs": [],
   "source": [
    "from tool.core.ood_score import ood_relative_mahalanobis_distance"
   ]
  },
  {
   "cell_type": "code",
   "execution_count": null,
   "id": "c257a798",
   "metadata": {},
   "outputs": [],
   "source": [
    "embeddings_file = 'timm_swin_base_patch4_window7_224.emb.pkl'\n",
    "bayes = False\n",
    "relative = True\n",
    "ood_score = ood_relative_mahalanobis_distance.score(os.path.join(ood_session_dir, embeddings_file),\n",
    "                                                    metadata_df, bayes=bayes)\n",
    "ood_rmd_df = pd.DataFrame()\n",
    "ood_rmd_df[types.RelativePathType.name()] = metadata_df[types.RelativePathType.name()]\n",
    "ood_rmd_df[types.OoDScoreType.name()] = ood_score"
   ]
  },
  {
   "cell_type": "code",
   "execution_count": null,
   "id": "ff246c65",
   "metadata": {},
   "outputs": [],
   "source": [
    "suffix = '_bayes_rmd' if bayes else '_rmd'\n",
    "suffix = suffix + '_relative' if relative else suffix\n",
    "ood_file_name = ''.join((embeddings_file, suffix, '.ood.pkl'))\n",
    "ood_rmd_df.to_pickle(os.path.join(ood_session_dir, ood_file_name))"
   ]
  },
  {
   "cell_type": "markdown",
   "id": "34c463ba",
   "metadata": {},
   "source": [
    "## Confidence Learning\n",
    "\n",
    "---"
   ]
  },
  {
   "cell_type": "code",
   "execution_count": null,
   "id": "c24d631c",
   "metadata": {},
   "outputs": [],
   "source": [
    "from tool.core.ood_score import ood_confident_learning\n",
    "\n",
    "probabilities_file = os.path.join(ood_session_dir, 'torch_shared-regnet_trafficlights_v12.clf.pkl')\n",
    "\n",
    "ood_score = ood_confident_learning.score_predicted_probabilities(\n",
    "            probabilities_file=probabilities_file,\n",
    "            metadata_df=metadata_df, head_idx=0)"
   ]
  },
  {
   "cell_type": "code",
   "execution_count": null,
   "id": "9b3a69e3",
   "metadata": {},
   "outputs": [],
   "source": [
    "ood_cl = pd.DataFrame()\n",
    "ood_cl[types.RelativePathType.name()] = metadata_df[types.RelativePathType.name()]\n",
    "ood_cl[types.OoDScoreType.name()] = ood_score\n",
    "\n",
    "ood_file_name = ''.join(('confidence_learning_ood', '.ood.pkl'))\n",
    "ood_cl.to_pickle(os.path.join(ood_session_dir, ood_file_name))"
   ]
  },
  {
   "cell_type": "markdown",
   "id": "e37f81a0",
   "metadata": {},
   "source": [
    "## Run metrics\n",
    "\n",
    "---"
   ]
  },
  {
   "cell_type": "code",
   "execution_count": null,
   "id": "a53d7cb0",
   "metadata": {},
   "outputs": [],
   "source": [
    "from tool.core.ood_score.metrics import run_metrics"
   ]
  },
  {
   "cell_type": "code",
   "execution_count": null,
   "id": "e3ebe9f8",
   "metadata": {},
   "outputs": [],
   "source": [
    "metadata_df.sample(n = 10)"
   ]
  },
  {
   "cell_type": "code",
   "execution_count": null,
   "id": "d64b76f5",
   "metadata": {},
   "outputs": [],
   "source": [
    "## List of ood files in ood_session_dir\n",
    "\n",
    "for file in os.listdir(ood_session_dir):\n",
    "    if file.endswith(\".ood.pkl\"):\n",
    "        print(file)"
   ]
  },
  {
   "cell_type": "code",
   "execution_count": null,
   "id": "603178b1",
   "metadata": {},
   "outputs": [],
   "source": [
    "selected_file = 'timm_swin_small_patch4_window7_224.emb.pkl_knn_dist.ood.pkl'\n",
    "ood_df = pd.read_pickle(os.path.join(ood_session_dir, selected_file))\n",
    "# Relative paths\n",
    "ood_folders = ['main/val/trash', 'main/val/pedestrian_tl_10_forward', 'main/val/pedestrian_tl_blinked',\n",
    "               'main/val/pedestrian_tl_01_stop']\n",
    "\n",
    "# If there is no probability score, then set it to None\n",
    "probabilities_file = os.path.join(ood_session_dir, 'torch_shared-regnet_trafficlights_v12.clf.pkl')"
   ]
  },
  {
   "cell_type": "code",
   "execution_count": null,
   "id": "875e8c54",
   "metadata": {},
   "outputs": [],
   "source": [
    "run_metrics(ood_df, metadata_df, ood_folders, logs_callback=print, k=300, probabilities_file=probabilities_file)"
   ]
  }
 ],
 "metadata": {
  "kernelspec": {
   "display_name": "Python 3 (ipykernel)",
   "language": "python",
   "name": "python3"
  },
  "language_info": {
   "codemirror_mode": {
    "name": "ipython",
    "version": 3
   },
   "file_extension": ".py",
   "mimetype": "text/x-python",
   "name": "python",
   "nbconvert_exporter": "python",
   "pygments_lexer": "ipython3",
   "version": "3.8.10"
  }
 },
 "nbformat": 4,
 "nbformat_minor": 5
}
