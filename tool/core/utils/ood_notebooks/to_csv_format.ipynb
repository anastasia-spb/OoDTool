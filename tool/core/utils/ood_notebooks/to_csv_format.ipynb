{
 "cells": [
  {
   "cell_type": "code",
   "execution_count": null,
   "id": "c5ae9294",
   "metadata": {},
   "outputs": [],
   "source": [
    "def convert_to_csv_format(data_df):\n",
    "    # target1,target2,filename,local_path,subset\n",
    "    # car_tl_x001x_forward,straight,exp.005.066.left.000030_x260_y215_h41_w20.png,\n",
    "    # /home/ashkanaev/data/tf_new_one_2/car_tl_x001x_forward/exp.005.066.left.000030_x260_y215_h41_w20.png,train\n",
    "\n",
    "    def get_filename(rel_path):\n",
    "        _, name = os.path.split(rel_path)\n",
    "        return name\n",
    "\n",
    "    def get_second_target_from_path(rel_path):\n",
    "        p, _ = os.path.split(rel_path)\n",
    "        p = p.lower()\n",
    "        if \"rotated\" in p:\n",
    "            return \"rotated\"\n",
    "        if \"straight\" in p:\n",
    "            return \"straight\"\n",
    "        return \"unknown\"\n",
    "\n",
    "\n",
    "    csv_df = pd.DataFrame()\n",
    "    csv_df[\"target1\"] = data_df[data_types.LabelType.name()]\n",
    "    csv_df[\"target2\"] = data_df[data_types.RelativePathType.name()].apply(lambda relative_path: get_second_target_from_path(relative_path))\n",
    "    csv_df[\"filename\"] = data_df[data_types.RelativePathType.name()].apply(lambda relative_path: get_filename(relative_path))\n",
    "    csv_df[\"local_path\"] = data_df[data_types.RelativePathType.name()]\n",
    "    csv_df[\"subset\"] = ''\n",
    "    return csv_df"
   ]
  },
  {
   "cell_type": "code",
   "execution_count": null,
   "id": "f21cb605",
   "metadata": {},
   "outputs": [],
   "source": [
    "csv_df = convert_to_csv_format(data_df)\n",
    "csv_df.head(5)"
   ]
  },
  {
   "cell_type": "code",
   "execution_count": null,
   "id": "b40fb98f",
   "metadata": {},
   "outputs": [],
   "source": [
    "csv_df.to_csv('ood_dataset.csv')  "
   ]
  }
 ],
 "metadata": {
  "kernelspec": {
   "display_name": "Python 3 (ipykernel)",
   "language": "python",
   "name": "python3"
  },
  "language_info": {
   "codemirror_mode": {
    "name": "ipython",
    "version": 3
   },
   "file_extension": ".py",
   "mimetype": "text/x-python",
   "name": "python",
   "nbconvert_exporter": "python",
   "pygments_lexer": "ipython3",
   "version": "3.10.6"
  }
 },
 "nbformat": 4,
 "nbformat_minor": 5
}
