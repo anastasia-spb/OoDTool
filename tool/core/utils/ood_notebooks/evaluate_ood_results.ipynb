{
 "cells": [
  {
   "cell_type": "code",
   "execution_count": 54,
   "id": "15065ca3",
   "metadata": {},
   "outputs": [],
   "source": [
    "import os\n",
    "import numpy as np\n",
    "import pandas as pd\n",
    "import matplotlib.pyplot as plt\n",
    "%matplotlib inline"
   ]
  },
  {
   "cell_type": "code",
   "execution_count": 2,
   "id": "dcd2c636",
   "metadata": {},
   "outputs": [],
   "source": [
    "from tool.core import data_types\n",
    "from tool.pyqt_gui.qt_utils import find_pkl"
   ]
  },
  {
   "cell_type": "code",
   "execution_count": 55,
   "id": "0936ed8d",
   "metadata": {},
   "outputs": [
    {
     "name": "stdout",
     "output_type": "stream",
     "text": [
      "/home/nastya/Desktop/ood_datasets/DroneBird/oodsession_7/ood_score_230507_143431.445.ood.pkl\n",
      "/home/nastya/Desktop/ood_datasets/DroneBird/oodsession_7/TimmResnetWrapper_densenet121_DroneBird_1024_230507_134347.030.emb.pkl\n"
     ]
    }
   ],
   "source": [
    "session_folder = '/home/nastya/Desktop/ood_datasets/DroneBird/oodsession_7'\n",
    "ood_file_path = ood_file = find_pkl.get_ood_file(session_folder)\n",
    "embeddings_file = find_pkl.get_embeddings_file(session_folder)\n",
    "\n",
    "print(ood_file_path)\n",
    "print(embeddings_file)\n",
    "\n",
    "ood_df = pd.read_pickle(ood_file_path)\n",
    "emb_df = pd.read_pickle(embeddings_file)\n",
    "\n",
    "data_df = pd.merge(emb_df, ood_df[\n",
    "                  [data_types.RelativePathType.name(), data_types.OoDScoreType.name()]],\n",
    "                                    on=data_types.RelativePathType.name(), how='inner')\n",
    "\n",
    "ood_score = data_df[data_types.OoDScoreType.name()].values"
   ]
  },
  {
   "cell_type": "code",
   "execution_count": 61,
   "id": "0a40ee12",
   "metadata": {},
   "outputs": [],
   "source": [
    "def get_predicted_label(probs, labels):\n",
    "    return labels[np.argmax(probs)]\n",
    "\n",
    "data_df[\"pred_label\"] = data_df.apply(lambda row: get_predicted_label(row[data_types.ClassProbabilitiesType.name()], \n",
    "                                                                      row[data_types.LabelsType.name()]), axis=1).values\n",
    "\n",
    "data_df[\"miss\"] = data_df.apply(lambda row: row[data_types.LabelType.name()] != row[\"pred_label\"], axis=1).values\n",
    "\n",
    "data_df[\"conf\"] = data_df.apply(lambda row: max(row[data_types.ClassProbabilitiesType.name()]), axis=1).values\n"
   ]
  },
  {
   "cell_type": "code",
   "execution_count": 57,
   "id": "ee93586d",
   "metadata": {},
   "outputs": [],
   "source": [
    "ood_folders= ['drones/close_to_ood', 'birds/close_to_ood', 'birds/bird_and_person', 'bird_drone',\n",
    "              'ood_samples'] \n",
    "\n",
    "def in_ood(img_path: str) -> bool:\n",
    "    p, _ = os.path.split(img_path)\n",
    "    return p in ood_folders\n",
    "\n",
    "data_df[\"ood_flag\"] = data_df.apply(lambda row: in_ood(row[data_types.RelativePathType.name()]), axis=1).values"
   ]
  },
  {
   "cell_type": "code",
   "execution_count": 58,
   "id": "3aabf757",
   "metadata": {},
   "outputs": [
    {
     "data": {
      "text/plain": [
       "95"
      ]
     },
     "execution_count": 58,
     "metadata": {},
     "output_type": "execute_result"
    }
   ],
   "source": [
    "n_samples = data_df.shape[0]\n",
    "(data_df[\"ood_flag\"][:n_samples].values).sum()"
   ]
  },
  {
   "cell_type": "code",
   "execution_count": 59,
   "id": "38431ea2",
   "metadata": {},
   "outputs": [
    {
     "data": {
      "text/plain": [
       "11"
      ]
     },
     "execution_count": 59,
     "metadata": {},
     "output_type": "execute_result"
    }
   ],
   "source": [
    "data_df.sort_values(by=[data_types.OoDScoreType.name()], inplace=True, ascending=False)\n",
    "(data_df[\"ood_flag\"][:50].values).sum()"
   ]
  },
  {
   "cell_type": "code",
   "execution_count": 60,
   "id": "012debc1",
   "metadata": {},
   "outputs": [
    {
     "data": {
      "text/plain": [
       "26"
      ]
     },
     "execution_count": 60,
     "metadata": {},
     "output_type": "execute_result"
    }
   ],
   "source": [
    "data_df.sort_values(by=[data_types.OoDScoreType.name()], inplace=True, ascending=False)\n",
    "(data_df[\"ood_flag\"][:100].values).sum()"
   ]
  },
  {
   "cell_type": "code",
   "execution_count": 62,
   "id": "c153ecc5",
   "metadata": {},
   "outputs": [
    {
     "data": {
      "text/plain": [
       "129"
      ]
     },
     "execution_count": 62,
     "metadata": {},
     "output_type": "execute_result"
    }
   ],
   "source": [
    "(data_df[\"miss\"][:n_samples].values).sum()"
   ]
  },
  {
   "cell_type": "code",
   "execution_count": 66,
   "id": "c8cd64ab",
   "metadata": {},
   "outputs": [
    {
     "data": {
      "text/plain": [
       "116"
      ]
     },
     "execution_count": 66,
     "metadata": {},
     "output_type": "execute_result"
    }
   ],
   "source": [
    "(data_df[data_df[\"miss\"]][\"ood_score\"].values > 0.75).sum()"
   ]
  },
  {
   "cell_type": "code",
   "execution_count": 69,
   "id": "a136d32f",
   "metadata": {},
   "outputs": [
    {
     "data": {
      "text/plain": [
       "89"
      ]
     },
     "execution_count": 69,
     "metadata": {},
     "output_type": "execute_result"
    }
   ],
   "source": [
    "data_df.loc[(data_df['miss']) & (data_df['ood_score'] > 0.75) & (data_df['conf'] > 0.75)].shape[0]"
   ]
  },
  {
   "cell_type": "code",
   "execution_count": 48,
   "id": "3ed2c8b5",
   "metadata": {},
   "outputs": [
    {
     "data": {
      "text/html": [
       "<div>\n",
       "<style scoped>\n",
       "    .dataframe tbody tr th:only-of-type {\n",
       "        vertical-align: middle;\n",
       "    }\n",
       "\n",
       "    .dataframe tbody tr th {\n",
       "        vertical-align: top;\n",
       "    }\n",
       "\n",
       "    .dataframe thead th {\n",
       "        text-align: right;\n",
       "    }\n",
       "</style>\n",
       "<table border=\"1\" class=\"dataframe\">\n",
       "  <thead>\n",
       "    <tr style=\"text-align: right;\">\n",
       "      <th></th>\n",
       "      <th>relative_path</th>\n",
       "      <th>labels</th>\n",
       "      <th>test_sample</th>\n",
       "      <th>label</th>\n",
       "      <th>ood_score</th>\n",
       "      <th>ood_flag</th>\n",
       "    </tr>\n",
       "  </thead>\n",
       "  <tbody>\n",
       "    <tr>\n",
       "      <th>693</th>\n",
       "      <td>drones/close_to_ood/e5ed9253-3142-4bc7-8ee3-5e...</td>\n",
       "      <td>[Drone, Bird]</td>\n",
       "      <td>True</td>\n",
       "      <td>Drone</td>\n",
       "      <td>0.388912</td>\n",
       "      <td>True</td>\n",
       "    </tr>\n",
       "    <tr>\n",
       "      <th>1354</th>\n",
       "      <td>birds/close_to_ood/singleBirdinsky247.jpeg</td>\n",
       "      <td>[Drone, Bird]</td>\n",
       "      <td>True</td>\n",
       "      <td>Bird</td>\n",
       "      <td>0.380966</td>\n",
       "      <td>True</td>\n",
       "    </tr>\n",
       "    <tr>\n",
       "      <th>1338</th>\n",
       "      <td>birds/close_to_ood/singleBirdinsky102.jpeg</td>\n",
       "      <td>[Drone, Bird]</td>\n",
       "      <td>True</td>\n",
       "      <td>Bird</td>\n",
       "      <td>0.379062</td>\n",
       "      <td>True</td>\n",
       "    </tr>\n",
       "    <tr>\n",
       "      <th>1381</th>\n",
       "      <td>ood_samples/balloons.jpg</td>\n",
       "      <td>[Drone, Bird]</td>\n",
       "      <td>True</td>\n",
       "      <td>Bird</td>\n",
       "      <td>0.364684</td>\n",
       "      <td>True</td>\n",
       "    </tr>\n",
       "    <tr>\n",
       "      <th>1375</th>\n",
       "      <td>ood_samples/a461bb93-1577-4663-a5c4-5652b91b14...</td>\n",
       "      <td>[Drone, Bird]</td>\n",
       "      <td>True</td>\n",
       "      <td>Bird</td>\n",
       "      <td>0.342295</td>\n",
       "      <td>True</td>\n",
       "    </tr>\n",
       "    <tr>\n",
       "      <th>1403</th>\n",
       "      <td>ood_samples/AUjKlvd.jpg</td>\n",
       "      <td>[Drone, Bird]</td>\n",
       "      <td>True</td>\n",
       "      <td>Bird</td>\n",
       "      <td>0.300620</td>\n",
       "      <td>True</td>\n",
       "    </tr>\n",
       "    <tr>\n",
       "      <th>700</th>\n",
       "      <td>drones/close_to_ood/c617f8ac-74db-41a4-8bc1-aa...</td>\n",
       "      <td>[Drone, Bird]</td>\n",
       "      <td>True</td>\n",
       "      <td>Drone</td>\n",
       "      <td>0.242038</td>\n",
       "      <td>True</td>\n",
       "    </tr>\n",
       "    <tr>\n",
       "      <th>1361</th>\n",
       "      <td>bird_drone/4N0W8J7_copyright_image_218654.jpeg</td>\n",
       "      <td>[Drone, Bird]</td>\n",
       "      <td>True</td>\n",
       "      <td>Bird</td>\n",
       "      <td>0.198754</td>\n",
       "      <td>True</td>\n",
       "    </tr>\n",
       "    <tr>\n",
       "      <th>1378</th>\n",
       "      <td>ood_samples/0e1676df-c3e9-44de-aa4a-1e28d23bde...</td>\n",
       "      <td>[Drone, Bird]</td>\n",
       "      <td>True</td>\n",
       "      <td>Bird</td>\n",
       "      <td>0.187136</td>\n",
       "      <td>True</td>\n",
       "    </tr>\n",
       "    <tr>\n",
       "      <th>1393</th>\n",
       "      <td>ood_samples/df543bdd-b483-4ee4-a0f0-aed44d31fa...</td>\n",
       "      <td>[Drone, Bird]</td>\n",
       "      <td>True</td>\n",
       "      <td>Bird</td>\n",
       "      <td>0.014525</td>\n",
       "      <td>True</td>\n",
       "    </tr>\n",
       "  </tbody>\n",
       "</table>\n",
       "</div>"
      ],
      "text/plain": [
       "                                          relative_path         labels   \n",
       "693   drones/close_to_ood/e5ed9253-3142-4bc7-8ee3-5e...  [Drone, Bird]  \\\n",
       "1354         birds/close_to_ood/singleBirdinsky247.jpeg  [Drone, Bird]   \n",
       "1338         birds/close_to_ood/singleBirdinsky102.jpeg  [Drone, Bird]   \n",
       "1381                           ood_samples/balloons.jpg  [Drone, Bird]   \n",
       "1375  ood_samples/a461bb93-1577-4663-a5c4-5652b91b14...  [Drone, Bird]   \n",
       "1403                            ood_samples/AUjKlvd.jpg  [Drone, Bird]   \n",
       "700   drones/close_to_ood/c617f8ac-74db-41a4-8bc1-aa...  [Drone, Bird]   \n",
       "1361     bird_drone/4N0W8J7_copyright_image_218654.jpeg  [Drone, Bird]   \n",
       "1378  ood_samples/0e1676df-c3e9-44de-aa4a-1e28d23bde...  [Drone, Bird]   \n",
       "1393  ood_samples/df543bdd-b483-4ee4-a0f0-aed44d31fa...  [Drone, Bird]   \n",
       "\n",
       "      test_sample  label  ood_score  ood_flag  \n",
       "693          True  Drone   0.388912      True  \n",
       "1354         True   Bird   0.380966      True  \n",
       "1338         True   Bird   0.379062      True  \n",
       "1381         True   Bird   0.364684      True  \n",
       "1375         True   Bird   0.342295      True  \n",
       "1403         True   Bird   0.300620      True  \n",
       "700          True  Drone   0.242038      True  \n",
       "1361         True   Bird   0.198754      True  \n",
       "1378         True   Bird   0.187136      True  \n",
       "1393         True   Bird   0.014525      True  "
      ]
     },
     "execution_count": 48,
     "metadata": {},
     "output_type": "execute_result"
    }
   ],
   "source": [
    "data_df[data_df[\"ood_flag\"]].tail(10)"
   ]
  },
  {
   "cell_type": "code",
   "execution_count": 9,
   "id": "8e9b0627",
   "metadata": {},
   "outputs": [
    {
     "data": {
      "text/plain": [
       "array(['drones/close_to_ood/e5ed9253-3142-4bc7-8ee3-5e6c8b0e8e45.png',\n",
       "       'ood_samples/intel-laminar-rm1-03.jpg',\n",
       "       'ood_samples/fc81b00c-048f-432e-9251-517586852c3e.jpg',\n",
       "       'bird_drone/4N0W8J7_copyright_image_218654.jpeg',\n",
       "       'ood_samples/balloons.jpg',\n",
       "       'ood_samples/0e1676df-c3e9-44de-aa4a-1e28d23bde13.jpg',\n",
       "       'ood_samples/a461bb93-1577-4663-a5c4-5652b91b14ac.jpg',\n",
       "       'ood_samples/AUjKlvd.jpg',\n",
       "       'drones/close_to_ood/c617f8ac-74db-41a4-8bc1-aace9601f01f.jpg'],\n",
       "      dtype=object)"
      ]
     },
     "execution_count": 9,
     "metadata": {},
     "output_type": "execute_result"
    }
   ],
   "source": [
    "data_df[data_df[\"ood_flag\"]][\"relative_path\"].values[-10:-1]"
   ]
  },
  {
   "cell_type": "code",
   "execution_count": null,
   "id": "cb34fbd8",
   "metadata": {},
   "outputs": [],
   "source": []
  }
 ],
 "metadata": {
  "kernelspec": {
   "display_name": "Python 3 (ipykernel)",
   "language": "python",
   "name": "python3"
  },
  "language_info": {
   "codemirror_mode": {
    "name": "ipython",
    "version": 3
   },
   "file_extension": ".py",
   "mimetype": "text/x-python",
   "name": "python",
   "nbconvert_exporter": "python",
   "pygments_lexer": "ipython3",
   "version": "3.10.6"
  }
 },
 "nbformat": 4,
 "nbformat_minor": 5
}
