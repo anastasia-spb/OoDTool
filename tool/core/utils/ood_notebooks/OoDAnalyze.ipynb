{
 "cells": [
  {
   "cell_type": "code",
   "execution_count": 1,
   "id": "a53d7cb0",
   "metadata": {},
   "outputs": [],
   "source": [
    "import os\n",
    "import pandas as pd\n",
    "import matplotlib.pyplot as plt\n",
    "%matplotlib inline"
   ]
  },
  {
   "cell_type": "code",
   "execution_count": 3,
   "id": "fed276ce",
   "metadata": {},
   "outputs": [],
   "source": [
    "from tool.core import data_types\n",
    "from tool.pyqt_gui.qt_utils import find_pkl"
   ]
  },
  {
   "cell_type": "code",
   "execution_count": 67,
   "id": "c320b285",
   "metadata": {},
   "outputs": [
    {
     "name": "stdout",
     "output_type": "stream",
     "text": [
      "/home/nastya/Desktop/ood_datasets/DroneBird/oodsession_6/ood_score_230507_141831.144.ood.pkl\n",
      "/home/nastya/Desktop/ood_datasets/DroneBird/oodsession_6/DroneBird.meta.pkl\n"
     ]
    }
   ],
   "source": [
    "session_folder = '/home/nastya/Desktop/ood_datasets/DroneBird/oodsession_6'\n",
    "ood_file_path = ood_file = find_pkl.get_ood_file(session_folder)\n",
    "corresponding_meta_file = find_pkl.get_metadata_file(session_folder)\n",
    "\n",
    "print(ood_file_path)\n",
    "print(corresponding_meta_file)\n",
    "\n",
    "ood_df = pd.read_pickle(ood_file_path)\n",
    "meta_df = pd.read_pickle(corresponding_meta_file)\n",
    "\n",
    "data_df = pd.merge(meta_df, ood_df[\n",
    "                  [data_types.RelativePathType.name(), data_types.OoDScoreType.name()]],\n",
    "                                    on=data_types.RelativePathType.name(), how='inner')\n",
    "\n",
    "ood_score = data_df[data_types.OoDScoreType.name()].values"
   ]
  },
  {
   "cell_type": "code",
   "execution_count": 38,
   "id": "282940e3",
   "metadata": {},
   "outputs": [
    {
     "data": {
      "text/html": [
       "<div>\n",
       "<style scoped>\n",
       "    .dataframe tbody tr th:only-of-type {\n",
       "        vertical-align: middle;\n",
       "    }\n",
       "\n",
       "    .dataframe tbody tr th {\n",
       "        vertical-align: top;\n",
       "    }\n",
       "\n",
       "    .dataframe thead th {\n",
       "        text-align: right;\n",
       "    }\n",
       "</style>\n",
       "<table border=\"1\" class=\"dataframe\">\n",
       "  <thead>\n",
       "    <tr style=\"text-align: right;\">\n",
       "      <th></th>\n",
       "      <th>relative_path</th>\n",
       "      <th>labels</th>\n",
       "      <th>test_sample</th>\n",
       "      <th>label</th>\n",
       "      <th>ood_score</th>\n",
       "    </tr>\n",
       "  </thead>\n",
       "  <tbody>\n",
       "    <tr>\n",
       "      <th>0</th>\n",
       "      <td>drones/train/singleDronesinsky366.jpeg</td>\n",
       "      <td>[Drone, Bird]</td>\n",
       "      <td>False</td>\n",
       "      <td>Drone</td>\n",
       "      <td>0.568938</td>\n",
       "    </tr>\n",
       "    <tr>\n",
       "      <th>1</th>\n",
       "      <td>drones/train/foto00291.png</td>\n",
       "      <td>[Drone, Bird]</td>\n",
       "      <td>False</td>\n",
       "      <td>Drone</td>\n",
       "      <td>0.517331</td>\n",
       "    </tr>\n",
       "    <tr>\n",
       "      <th>2</th>\n",
       "      <td>drones/train/37452103-9786-4f63-a6ac-64bd46044...</td>\n",
       "      <td>[Drone, Bird]</td>\n",
       "      <td>False</td>\n",
       "      <td>Drone</td>\n",
       "      <td>0.121804</td>\n",
       "    </tr>\n",
       "    <tr>\n",
       "      <th>3</th>\n",
       "      <td>drones/train/video14_88.JPEG</td>\n",
       "      <td>[Drone, Bird]</td>\n",
       "      <td>False</td>\n",
       "      <td>Drone</td>\n",
       "      <td>0.308430</td>\n",
       "    </tr>\n",
       "    <tr>\n",
       "      <th>4</th>\n",
       "      <td>drones/train/singleDronesinsky55.jpeg</td>\n",
       "      <td>[Drone, Bird]</td>\n",
       "      <td>False</td>\n",
       "      <td>Drone</td>\n",
       "      <td>0.632666</td>\n",
       "    </tr>\n",
       "  </tbody>\n",
       "</table>\n",
       "</div>"
      ],
      "text/plain": [
       "                                       relative_path         labels   \n",
       "0             drones/train/singleDronesinsky366.jpeg  [Drone, Bird]  \\\n",
       "1                         drones/train/foto00291.png  [Drone, Bird]   \n",
       "2  drones/train/37452103-9786-4f63-a6ac-64bd46044...  [Drone, Bird]   \n",
       "3                       drones/train/video14_88.JPEG  [Drone, Bird]   \n",
       "4              drones/train/singleDronesinsky55.jpeg  [Drone, Bird]   \n",
       "\n",
       "   test_sample  label  ood_score  \n",
       "0        False  Drone   0.568938  \n",
       "1        False  Drone   0.517331  \n",
       "2        False  Drone   0.121804  \n",
       "3        False  Drone   0.308430  \n",
       "4        False  Drone   0.632666  "
      ]
     },
     "execution_count": 38,
     "metadata": {},
     "output_type": "execute_result"
    }
   ],
   "source": [
    "data_df.head(5)"
   ]
  },
  {
   "cell_type": "code",
   "execution_count": 39,
   "id": "2344e04a",
   "metadata": {},
   "outputs": [
    {
     "data": {
      "image/png": "[encoded data removed]",
      "text/plain": [
       "<Figure size 640x480 with 1 Axes>"
      ]
     },
     "metadata": {},
     "output_type": "display_data"
    }
   ],
   "source": [
    "n, bins, patches = plt.hist(\n",
    "    ood_score, 50, density=1, facecolor=\"green\", alpha=0.75\n",
    ")"
   ]
  },
  {
   "cell_type": "code",
   "execution_count": 8,
   "id": "12b132ef",
   "metadata": {},
   "outputs": [],
   "source": [
    "def get_hist(data_df, label):\n",
    "    df = data_df[data_df[data_types.LabelType.name()] == label]\n",
    "    ood_score = df[data_types.OoDScoreType.name()].values\n",
    "    n, bins, patches = plt.hist(ood_score, 50, density=1, facecolor=\"green\", alpha=0.75)"
   ]
  },
  {
   "cell_type": "code",
   "execution_count": 9,
   "id": "6798c1b8",
   "metadata": {},
   "outputs": [
    {
     "data": {
      "image/png": "[encoded data removed]",
      "text/plain": [
       "<Figure size 640x480 with 1 Axes>"
      ]
     },
     "metadata": {},
     "output_type": "display_data"
    }
   ],
   "source": [
    "get_hist(data_df, 'Drone')"
   ]
  },
  {
   "cell_type": "code",
   "execution_count": 11,
   "id": "f1bed7ac",
   "metadata": {},
   "outputs": [],
   "source": [
    "def get_samples_with_ood_above(input_df, threshold: int, label=''):\n",
    "    local_df = input_df.copy()\n",
    "    if label != '':\n",
    "        local_df = local_df[data_df[data_types.LabelType.name()] == label]\n",
    "    local_df.sort_values(by=[data_types.OoDScoreType.name()], inplace=True, ascending=False)\n",
    "    local_df = local_df[local_df[data_types.OoDScoreType.name()] > threshold]\n",
    "    return local_df"
   ]
  },
  {
   "cell_type": "code",
   "execution_count": 43,
   "id": "71680190",
   "metadata": {},
   "outputs": [
    {
     "data": {
      "text/html": [
       "<div>\n",
       "<style scoped>\n",
       "    .dataframe tbody tr th:only-of-type {\n",
       "        vertical-align: middle;\n",
       "    }\n",
       "\n",
       "    .dataframe tbody tr th {\n",
       "        vertical-align: top;\n",
       "    }\n",
       "\n",
       "    .dataframe thead th {\n",
       "        text-align: right;\n",
       "    }\n",
       "</style>\n",
       "<table border=\"1\" class=\"dataframe\">\n",
       "  <thead>\n",
       "    <tr style=\"text-align: right;\">\n",
       "      <th></th>\n",
       "      <th>relative_path</th>\n",
       "      <th>labels</th>\n",
       "      <th>test_sample</th>\n",
       "      <th>label</th>\n",
       "      <th>ood_score</th>\n",
       "      <th>ood_flag</th>\n",
       "    </tr>\n",
       "  </thead>\n",
       "  <tbody>\n",
       "    <tr>\n",
       "      <th>683</th>\n",
       "      <td>drones/red_drones/pic_563.jpg</td>\n",
       "      <td>[Drone, Bird]</td>\n",
       "      <td>True</td>\n",
       "      <td>Drone</td>\n",
       "      <td>0.999358</td>\n",
       "      <td>False</td>\n",
       "    </tr>\n",
       "    <tr>\n",
       "      <th>478</th>\n",
       "      <td>drones/test/df1df129-e166-405f-9bf8-247257391a...</td>\n",
       "      <td>[Drone, Bird]</td>\n",
       "      <td>True</td>\n",
       "      <td>Drone</td>\n",
       "      <td>0.998593</td>\n",
       "      <td>False</td>\n",
       "    </tr>\n",
       "    <tr>\n",
       "      <th>493</th>\n",
       "      <td>drones/test/singleDronesinsky348.jpeg</td>\n",
       "      <td>[Drone, Bird]</td>\n",
       "      <td>True</td>\n",
       "      <td>Drone</td>\n",
       "      <td>0.998488</td>\n",
       "      <td>False</td>\n",
       "    </tr>\n",
       "    <tr>\n",
       "      <th>480</th>\n",
       "      <td>drones/test/singleDronesinsky138.jpeg</td>\n",
       "      <td>[Drone, Bird]</td>\n",
       "      <td>True</td>\n",
       "      <td>Drone</td>\n",
       "      <td>0.998093</td>\n",
       "      <td>False</td>\n",
       "    </tr>\n",
       "    <tr>\n",
       "      <th>662</th>\n",
       "      <td>drones/test/singleDronesinsky364.jpeg</td>\n",
       "      <td>[Drone, Bird]</td>\n",
       "      <td>True</td>\n",
       "      <td>Drone</td>\n",
       "      <td>0.997381</td>\n",
       "      <td>False</td>\n",
       "    </tr>\n",
       "  </tbody>\n",
       "</table>\n",
       "</div>"
      ],
      "text/plain": [
       "                                         relative_path         labels   \n",
       "683                      drones/red_drones/pic_563.jpg  [Drone, Bird]  \\\n",
       "478  drones/test/df1df129-e166-405f-9bf8-247257391a...  [Drone, Bird]   \n",
       "493              drones/test/singleDronesinsky348.jpeg  [Drone, Bird]   \n",
       "480              drones/test/singleDronesinsky138.jpeg  [Drone, Bird]   \n",
       "662              drones/test/singleDronesinsky364.jpeg  [Drone, Bird]   \n",
       "\n",
       "     test_sample  label  ood_score  ood_flag  \n",
       "683         True  Drone   0.999358     False  \n",
       "478         True  Drone   0.998593     False  \n",
       "493         True  Drone   0.998488     False  \n",
       "480         True  Drone   0.998093     False  \n",
       "662         True  Drone   0.997381     False  "
      ]
     },
     "execution_count": 43,
     "metadata": {},
     "output_type": "execute_result"
    }
   ],
   "source": [
    "get_samples_with_ood_above(data_df, 0.95, 'Drone').head(5)"
   ]
  },
  {
   "cell_type": "code",
   "execution_count": null,
   "id": "875e8c54",
   "metadata": {},
   "outputs": [],
   "source": []
  }
 ],
 "metadata": {
  "kernelspec": {
   "display_name": "Python 3 (ipykernel)",
   "language": "python",
   "name": "python3"
  },
  "language_info": {
   "codemirror_mode": {
    "name": "ipython",
    "version": 3
   },
   "file_extension": ".py",
   "mimetype": "text/x-python",
   "name": "python",
   "nbconvert_exporter": "python",
   "pygments_lexer": "ipython3",
   "version": "3.10.6"
  }
 },
 "nbformat": 4,
 "nbformat_minor": 5
}
